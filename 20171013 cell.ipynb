{
 "cells": [
  {
   "cell_type": "markdown",
   "metadata": {
    "collapsed": true
   },
   "source": [
    "Построение ВАХ"
   ]
  },
  {
   "cell_type": "code",
   "execution_count": 93,
   "metadata": {
    "collapsed": true
   },
   "outputs": [],
   "source": [
    "# -*- coding: utf-8 -*-\n",
    "import pandas as pd\n",
    "import matplotlib.pyplot as plt\n",
    "import numpy as np"
   ]
  },
  {
   "cell_type": "code",
   "execution_count": 94,
   "metadata": {
    "collapsed": true
   },
   "outputs": [],
   "source": [
    "name_list = [\"20171013up\", \"20171013down\"]"
   ]
  },
  {
   "cell_type": "code",
   "execution_count": 95,
   "metadata": {},
   "outputs": [],
   "source": [
    "usinp = name_list[0]\n",
    "len_usinp = len(str(usinp))\n",
    "usinp_e = usinp + 'e' + '.csv'\n",
    "usinp_title = usinp\n",
    "s = open(usinp).read()#прочитали исходный файл\n",
    "s = s.replace(',', '.')#меняем запятую на точкуу\n",
    "s = s.replace(';', '\\t')#\n",
    "f = open(usinp_e, 'w')#открыли файл (создали)\n",
    "f.write(s)#записали\n",
    "f.close()#закрыли\n",
    "frame = pd.read_csv(usinp_e, sep = \"\\t\", header = None, names = ['Item', 'Smu1_V(1)(1)', 'Smu1_I(1)(1)', 'Smu1_R(1)(1)', 'Smu1_Time(1)(1)'], skiprows = 1)\n",
    "allarray = np.array(frame)\n",
    "Smu1_V = np.array(frame['Item'])\n",
    "Smu1_I = np.array(frame['Smu1_V(1)(1)'])\n",
    "Smu1_R = np.array(frame['Smu1_I(1)(1)'])\n",
    "Smu1_Time = np.array(frame['Smu1_R(1)(1)'])\n",
    "smu_0 = np.array(frame['Smu1_Time(1)(1)'])\n",
    "plt.figure(num = 1, dpi= 300)\n",
    "#plt.suptitle(usinp_title, fontsize=16)\n",
    "plt.plot(Smu1_V, Smu1_I, \"r\")\n",
    "#plt.xlabel('Time, s')\n",
    "#plt.ylabel('Amps, ma')\n",
    "#plt.title(u'Вольт-амперная характеристика', fontsize=12)\n",
    "#plt.grid(True)\n",
    "#вывод\n",
    "plt.draw()\n",
    "#plt.figure(1).savefig(usinp_title + 'e' + '.pdf')\n",
    "#plt.clf()\n",
    "\n",
    "usinp = name_list[1]\n",
    "len_usinp = len(str(usinp))\n",
    "usinp_e = usinp + 'e' + '.csv'\n",
    "usinp_title = usinp\n",
    "s = open(usinp).read()#прочитали исходный файл\n",
    "s = s.replace(',', '.')#меняем запятую на точкуу\n",
    "s = s.replace(';', '\\t')#\n",
    "f = open(usinp_e, 'w')#открыли файл (создали)\n",
    "f.write(s)#записали\n",
    "f.close()#закрыли\n",
    "frame = pd.read_csv(usinp_e, sep = \"\\t\", header = None, names = ['Item', 'Smu1_V(1)(1)', 'Smu1_I(1)(1)', 'Smu1_R(1)(1)', 'Smu1_Time(1)(1)'], skiprows = 1)\n",
    "allarray = np.array(frame)\n",
    "Smu1_V = np.array(frame['Item'])\n",
    "Smu1_I = np.array(frame['Smu1_V(1)(1)'])\n",
    "Smu1_R = np.array(frame['Smu1_I(1)(1)'])\n",
    "Smu1_Time = np.array(frame['Smu1_R(1)(1)'])\n",
    "smu_0 = np.array(frame['Smu1_Time(1)(1)'])\n",
    "plt.figure(num = 1, dpi= 300)\n",
    "#plt.suptitle(usinp_title, fontsize=16)\n",
    "plt.plot(Smu1_V, Smu1_I, \"b\")\n",
    "#plt.xlabel('Volts, mv')\n",
    "#plt.ylabel('Amps, ma')\n",
    "#plt.title(u'Вольт-амперная характеристика', fontsize=12)\n",
    "#plt.grid(True)\n",
    "#вывод\n",
    "plt.draw()\n",
    "plt.figure(1).savefig(usinp_title + 'e' + '.png')\n",
    "plt.figure(1).savefig(usinp_title + 'e' + '.pdf')"
   ]
  },
  {
   "cell_type": "code",
   "execution_count": 96,
   "metadata": {},
   "outputs": [
    {
     "name": "stdout",
     "output_type": "stream",
     "text": [
      "DONE\n"
     ]
    }
   ],
   "source": [
    "print \"DONE\""
   ]
  }
 ],
 "metadata": {
  "kernelspec": {
   "display_name": "Python 2",
   "language": "python",
   "name": "python2"
  },
  "language_info": {
   "codemirror_mode": {
    "name": "ipython",
    "version": 2
   },
   "file_extension": ".py",
   "mimetype": "text/x-python",
   "name": "python",
   "nbconvert_exporter": "python",
   "pygments_lexer": "ipython2",
   "version": "2.7.13"
  }
 },
 "nbformat": 4,
 "nbformat_minor": 2
}
